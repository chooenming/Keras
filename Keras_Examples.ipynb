{
  "nbformat": 4,
  "nbformat_minor": 0,
  "metadata": {
    "colab": {
      "provenance": [],
      "gpuType": "T4"
    },
    "kernelspec": {
      "name": "python3",
      "display_name": "Python 3"
    },
    "language_info": {
      "name": "python"
    },
    "accelerator": "GPU"
  },
  "cells": [
    {
      "cell_type": "code",
      "execution_count": 3,
      "metadata": {
        "id": "NbBJSIJQdYke"
      },
      "outputs": [],
      "source": [
        "import keras\n",
        "import tensorflow as tf\n",
        "import numpy as np"
      ]
    },
    {
      "cell_type": "code",
      "source": [
        "tf.__version__"
      ],
      "metadata": {
        "colab": {
          "base_uri": "https://localhost:8080/",
          "height": 35
        },
        "id": "cg4NjQEldeLW",
        "outputId": "f4b5e7ad-aa03-415f-8404-5788218e93a8"
      },
      "execution_count": 4,
      "outputs": [
        {
          "output_type": "execute_result",
          "data": {
            "text/plain": [
              "'2.15.0'"
            ],
            "application/vnd.google.colaboratory.intrinsic+json": {
              "type": "string"
            }
          },
          "metadata": {},
          "execution_count": 4
        }
      ]
    },
    {
      "cell_type": "markdown",
      "source": [
        "## Download dataset\n",
        "The Fashion-MNIST dataset contains thousands of grayscale images of Zalando fashion articles"
      ],
      "metadata": {
        "id": "GfLMaXZJd95D"
      }
    },
    {
      "cell_type": "code",
      "source": [
        "(train_images, train_labels), (test_images, test_labels) = tf.keras.datasets.fashion_mnist.load_data()"
      ],
      "metadata": {
        "colab": {
          "base_uri": "https://localhost:8080/"
        },
        "id": "UzJ_sf_6dvDI",
        "outputId": "436c6059-3076-4bb7-c6c0-945dba255ce2"
      },
      "execution_count": 5,
      "outputs": [
        {
          "output_type": "stream",
          "name": "stdout",
          "text": [
            "Downloading data from https://storage.googleapis.com/tensorflow/tf-keras-datasets/train-labels-idx1-ubyte.gz\n",
            "29515/29515 [==============================] - 0s 0us/step\n",
            "Downloading data from https://storage.googleapis.com/tensorflow/tf-keras-datasets/train-images-idx3-ubyte.gz\n",
            "26421880/26421880 [==============================] - 0s 0us/step\n",
            "Downloading data from https://storage.googleapis.com/tensorflow/tf-keras-datasets/t10k-labels-idx1-ubyte.gz\n",
            "5148/5148 [==============================] - 0s 0us/step\n",
            "Downloading data from https://storage.googleapis.com/tensorflow/tf-keras-datasets/t10k-images-idx3-ubyte.gz\n",
            "4422102/4422102 [==============================] - 0s 0us/step\n"
          ]
        }
      ]
    },
    {
      "cell_type": "markdown",
      "source": [
        "## Understand the data format\n",
        "Images as 3-D array of integer values that is of shape (N, 28, 28), where N is the number of images in the training or test set.\n",
        "<br>The labels are 1-D array of the integer values of each image."
      ],
      "metadata": {
        "id": "7LOGH-e9eJqq"
      }
    },
    {
      "cell_type": "code",
      "source": [
        "print(train_images.shape, train_labels.shape)\n",
        "print(test_images.shape, test_labels.shape)"
      ],
      "metadata": {
        "colab": {
          "base_uri": "https://localhost:8080/"
        },
        "id": "b7aZqANZd6u4",
        "outputId": "5c16c68a-d444-44bd-e0d2-c58e98b79d4d"
      },
      "execution_count": 6,
      "outputs": [
        {
          "output_type": "stream",
          "name": "stdout",
          "text": [
            "(60000, 28, 28) (60000,)\n",
            "(10000, 28, 28) (10000,)\n"
          ]
        }
      ]
    },
    {
      "cell_type": "code",
      "source": [
        "set(test_labels)"
      ],
      "metadata": {
        "colab": {
          "base_uri": "https://localhost:8080/"
        },
        "id": "-0nbZo61eV8O",
        "outputId": "0775bed5-5d84-45e8-dc56-ceb4e165c930"
      },
      "execution_count": 7,
      "outputs": [
        {
          "output_type": "execute_result",
          "data": {
            "text/plain": [
              "{0, 1, 2, 3, 4, 5, 6, 7, 8, 9}"
            ]
          },
          "metadata": {},
          "execution_count": 7
        }
      ]
    },
    {
      "cell_type": "markdown",
      "source": [
        "test labels are from 0 to 9"
      ],
      "metadata": {
        "id": "jgMvvWlaex1i"
      }
    },
    {
      "cell_type": "markdown",
      "source": [
        "##Visualise the data\n",
        "This function shows a random example along with its corresponding label."
      ],
      "metadata": {
        "id": "UIUtAwtEe21b"
      }
    },
    {
      "cell_type": "code",
      "source": [
        "%matplotlib inline\n",
        "import random\n",
        "import matplotlib.pyplot as plt\n",
        "\n",
        "i = random.randint(0, 100)\n",
        "\n",
        "print(\"Label: %s\" % train_labels[i])\n",
        "plt.imshow(train_images[i], cmap = \"gray\")"
      ],
      "metadata": {
        "colab": {
          "base_uri": "https://localhost:8080/",
          "height": 466
        },
        "id": "p1JypOQJew4w",
        "outputId": "7d1c1094-7d6a-463c-c24c-8af9569ecb8f"
      },
      "execution_count": 12,
      "outputs": [
        {
          "output_type": "stream",
          "name": "stdout",
          "text": [
            "Label: 7\n"
          ]
        },
        {
          "output_type": "execute_result",
          "data": {
            "text/plain": [
              "<matplotlib.image.AxesImage at 0x7885ea4414e0>"
            ]
          },
          "metadata": {},
          "execution_count": 12
        },
        {
          "output_type": "display_data",
          "data": {
            "text/plain": [
              "<Figure size 640x480 with 1 Axes>"
            ],
            "image/png": "[encoded data removed]"
          },
          "metadata": {}
        }
      ]
    },
    {
      "cell_type": "markdown",
      "source": [
        "Each training and test example is assigned one of the following labels:\n",
        "<br>0: T-shirt/top\n",
        "<br>1: Trouser\n",
        "<br>2: Pullover\n",
        "<br>3: Dress\n",
        "<br>4: Coat\n",
        "<br>5: Sandal\n",
        "<br>6: Shirt\n",
        "<br>7: Sneaker\n",
        "<br>8: Bag\n",
        "<br>9: Ankle boot"
      ],
      "metadata": {
        "id": "krUzM9UCfes-"
      }
    },
    {
      "cell_type": "markdown",
      "source": [
        "## Reformat the images\n",
        "Flatten (or unstack) the images. There are deep learning techniques that work with 2D images directly (rather than their flattened representation). Instead of working with a 28 by 28 image, unstack it into a 28*28=784 length array.\n",
        "\n",
        "\n",
        "*   Convert the 3D array of shape (N, 28, 28) to a 2D array of shape (N, 784) where the second dimension is just an array of all the pixels in an image. This is called flattening, or unstacking, the images.\n",
        "*   Convert the pixel values from a number between 0 and 255 to a number between 0 and 1\n",
        "\n"
      ],
      "metadata": {
        "id": "qzx4jrIXf3Xr"
      }
    },
    {
      "cell_type": "code",
      "source": [
        "TRAINING_SIZE = len(train_images)\n",
        "TEST_SIZE = len(test_images)\n",
        "\n",
        "# Reshape from (N, 28, 28) to (N, 784)\n",
        "train_images = np.reshape(train_images, (TRAINING_SIZE, 784))\n",
        "test_images = np.reshape(test_images, (TEST_SIZE, 784))\n",
        "\n",
        "# Convert the array to float32 as opposed to uint8\n",
        "train_images = train_images.astype(np.float32)\n",
        "test_images = test_images.astype(np.float32)\n",
        "\n",
        "# Convert the pixel values from integers between 0 and 255 to floats between 0 and 1\n",
        "train_images /= 255\n",
        "test_images /= 255"
      ],
      "metadata": {
        "id": "euaQt25XfPJ3"
      },
      "execution_count": 13,
      "outputs": []
    },
    {
      "cell_type": "markdown",
      "source": [
        "##Reformat the labels\n",
        "Convert the labels from an integer format (i.e. \"2\" or \"Pullover\"), to a one hot encoding (i.e. \"0, 0, 1, 0, 0, 0, 0, 0, 0, 0)\n",
        "<br>So that Neural Network Model can take more easily"
      ],
      "metadata": {
        "id": "vmJ01BhUhS8u"
      }
    },
    {
      "cell_type": "code",
      "source": [
        "NUM_CAT = 10\n",
        "print(\"Before\", train_labels[0]) # format of the labels before conversion\n",
        "train_labels_ = tf.keras.utils.to_categorical(train_labels, NUM_CAT)\n",
        "print(\"After\", train_labels_[0]) # format of the labels after conversion\n",
        "test_labels_ = tf.keras.utils.to_categorical(test_labels, NUM_CAT)"
      ],
      "metadata": {
        "colab": {
          "base_uri": "https://localhost:8080/"
        },
        "id": "7zrLPkj0hsqF",
        "outputId": "27feb786-b908-4096-f494-33fca3361462"
      },
      "execution_count": 15,
      "outputs": [
        {
          "output_type": "stream",
          "name": "stdout",
          "text": [
            "Before 9\n",
            "After [0. 0. 0. 0. 0. 0. 0. 0. 0. 1.]\n"
          ]
        }
      ]
    },
    {
      "cell_type": "markdown",
      "source": [
        "##Build the model\n",
        "Create Neural Network using Keras Sequential API. Keras is a high-level API to build and train deep learning models and is user friendly, modular and easy to extend.\n",
        "<br>`tf.keras` is a TensorFlow's implementation of this API and it supports such things as eager execution, `tf.data` pipelines and Estimators.\n",
        "<br>Architecture wise, use single hidden layer network, where:\n",
        "\n",
        "\n",
        "*   The hidden layer will have 512 units using the ReLU activation function\n",
        "*   The output layer will have 10 units using softmax function\n",
        "*   Specify the input shape on the first layer. If add subsequent layers, it is not necessary.\n",
        "*   Use categorical crossentropy loss function, and the SGD optimiser\n"
      ],
      "metadata": {
        "id": "QUO72OC4iL_e"
      }
    },
    {
      "cell_type": "code",
      "source": [
        "model = tf.keras.Sequential()\n",
        "model.add(tf.keras.layers.Dense(512, activation = tf.nn.relu, input_dim = 784))\n",
        "model.add(tf.keras.layers.Dense(NUM_CAT, activation = tf.nn.softmax))\n",
        "\n",
        "# Compile and print summary of the model\n",
        "opt = tf.keras.optimizers.SGD(learning_rate = 0.1)\n",
        "model.compile(loss = \"categorical_crossentropy\",\n",
        "              optimizer = opt,\n",
        "              metrics = [\"accuracy\"])\n",
        "model.summary()"
      ],
      "metadata": {
        "colab": {
          "base_uri": "https://localhost:8080/"
        },
        "id": "C-mOeZd0iLsD",
        "outputId": "a6c7b1c5-9a9c-44b4-d696-4975ce30e0ee"
      },
      "execution_count": 16,
      "outputs": [
        {
          "output_type": "stream",
          "name": "stdout",
          "text": [
            "Model: \"sequential\"\n",
            "_________________________________________________________________\n",
            " Layer (type)                Output Shape              Param #   \n",
            "=================================================================\n",
            " dense (Dense)               (None, 512)               401920    \n",
            "                                                                 \n",
            " dense_1 (Dense)             (None, 10)                5130      \n",
            "                                                                 \n",
            "=================================================================\n",
            "Total params: 407050 (1.55 MB)\n",
            "Trainable params: 407050 (1.55 MB)\n",
            "Non-trainable params: 0 (0.00 Byte)\n",
            "_________________________________________________________________\n"
          ]
        }
      ]
    },
    {
      "cell_type": "markdown",
      "source": [
        "##Training\n",
        "Train the model using fit method for 5 epochs. Keep track of the training loss and accuracy as the process goes."
      ],
      "metadata": {
        "id": "WGjERCmEkO3k"
      }
    },
    {
      "cell_type": "code",
      "source": [
        "train_labels_.shape"
      ],
      "metadata": {
        "colab": {
          "base_uri": "https://localhost:8080/"
        },
        "id": "8EH0jRENj5iP",
        "outputId": "5079748a-570d-4b7d-afc9-24b8323ebde7"
      },
      "execution_count": 18,
      "outputs": [
        {
          "output_type": "execute_result",
          "data": {
            "text/plain": [
              "(60000, 10)"
            ]
          },
          "metadata": {},
          "execution_count": 18
        }
      ]
    },
    {
      "cell_type": "code",
      "source": [
        "# can also include validation loss in the fit function\n",
        "model.fit(train_images, train_labels_, epochs = 5)"
      ],
      "metadata": {
        "colab": {
          "base_uri": "https://localhost:8080/"
        },
        "id": "-cj2CCMpkZW1",
        "outputId": "36679816-2024-431e-b4e4-5aa3b44e3496"
      },
      "execution_count": 19,
      "outputs": [
        {
          "output_type": "stream",
          "name": "stdout",
          "text": [
            "Epoch 1/5\n",
            "1875/1875 [==============================] - 7s 2ms/step - loss: 0.5181 - accuracy: 0.8163\n",
            "Epoch 2/5\n",
            "1875/1875 [==============================] - 5s 3ms/step - loss: 0.3827 - accuracy: 0.8602\n",
            "Epoch 3/5\n",
            "1875/1875 [==============================] - 5s 2ms/step - loss: 0.3462 - accuracy: 0.8738\n",
            "Epoch 4/5\n",
            "1875/1875 [==============================] - 5s 2ms/step - loss: 0.3221 - accuracy: 0.8819\n",
            "Epoch 5/5\n",
            "1875/1875 [==============================] - 5s 3ms/step - loss: 0.3043 - accuracy: 0.8885\n"
          ]
        },
        {
          "output_type": "execute_result",
          "data": {
            "text/plain": [
              "<keras.src.callbacks.History at 0x7885ea392c20>"
            ]
          },
          "metadata": {},
          "execution_count": 19
        }
      ]
    },
    {
      "cell_type": "markdown",
      "source": [
        "##Testing\n",
        "Evaluate the model"
      ],
      "metadata": {
        "id": "bQ3TKl7Uk1Fw"
      }
    },
    {
      "cell_type": "code",
      "source": [
        "loss, accuracy = model.evaluate(test_images, test_labels_)\n",
        "print(\"Test accuracy: %.2f\" % accuracy)"
      ],
      "metadata": {
        "colab": {
          "base_uri": "https://localhost:8080/"
        },
        "id": "EeDjB7YYkiJy",
        "outputId": "03caaace-dd93-4f47-db27-b0128a46df1c"
      },
      "execution_count": 22,
      "outputs": [
        {
          "output_type": "stream",
          "name": "stdout",
          "text": [
            "313/313 [==============================] - 1s 2ms/step - loss: 0.3568 - accuracy: 0.8720\n",
            "Test accuracy: 0.87\n"
          ]
        }
      ]
    }
  ]
}