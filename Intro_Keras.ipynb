{
 "cells": [
  {
   "cell_type": "code",
   "execution_count": 1,
   "metadata": {},
   "outputs": [],
   "source": [
    "import keras"
   ]
  },
  {
   "cell_type": "code",
   "execution_count": 3,
   "metadata": {},
   "outputs": [
    {
     "data": {
      "text/plain": [
       "'2.15.0'"
      ]
     },
     "execution_count": 3,
     "metadata": {},
     "output_type": "execute_result"
    }
   ],
   "source": [
    "keras.__version__"
   ]
  },
  {
   "cell_type": "markdown",
   "metadata": {},
   "source": [
    "## Model formation"
   ]
  },
  {
   "cell_type": "code",
   "execution_count": 4,
   "metadata": {},
   "outputs": [],
   "source": [
    "# Sequential: build anti-object\n",
    "from keras.models import Sequential"
   ]
  },
  {
   "cell_type": "code",
   "execution_count": 5,
   "metadata": {},
   "outputs": [],
   "source": [
    "model = Sequential()"
   ]
  },
  {
   "cell_type": "code",
   "execution_count": 6,
   "metadata": {},
   "outputs": [],
   "source": [
    "from keras.layers import Dense # Dense: fully connected layers\n",
    "\n",
    "# add layers\n",
    "# units = neurons\n",
    "# activation = activation function\n",
    "# input_dim = input vector lengths\n",
    "model.add(Dense(units = 64, activation = \"relu\", input_dim = 100))\n",
    "\n",
    "# output layer\n",
    "# units = classes of output\n",
    "# softmax because multi-class classfication\n",
    "model.add(Dense(units = 5, activation = \"softmax\"))"
   ]
  },
  {
   "cell_type": "code",
   "execution_count": 7,
   "metadata": {},
   "outputs": [
    {
     "name": "stdout",
     "output_type": "stream",
     "text": [
      "Model: \"sequential\"\n",
      "_________________________________________________________________\n",
      " Layer (type)                Output Shape              Param #   \n",
      "=================================================================\n",
      " dense (Dense)               (None, 64)                6464      \n",
      "                                                                 \n",
      " dense_1 (Dense)             (None, 5)                 325       \n",
      "                                                                 \n",
      "=================================================================\n",
      "Total params: 6789 (26.52 KB)\n",
      "Trainable params: 6789 (26.52 KB)\n",
      "Non-trainable params: 0 (0.00 Byte)\n",
      "_________________________________________________________________\n"
     ]
    }
   ],
   "source": [
    "# show model architecture\n",
    "model.summary()"
   ]
  },
  {
   "cell_type": "markdown",
   "metadata": {},
   "source": [
    "dense = input layers\n",
    "dense_1 = output layers\n",
    "param # includes the biases"
   ]
  },
  {
   "cell_type": "code",
   "execution_count": 12,
   "metadata": {},
   "outputs": [
    {
     "name": "stdout",
     "output_type": "stream",
     "text": [
      "Model: \"sequential_5\"\n",
      "_________________________________________________________________\n",
      " Layer (type)                Output Shape              Param #   \n",
      "=================================================================\n",
      " dense_6 (Dense)             (None, 64)                6464      \n",
      "                                                                 \n",
      " activation (Activation)     (None, 64)                0         \n",
      "                                                                 \n",
      " dense_7 (Dense)             (None, 5)                 325       \n",
      "                                                                 \n",
      "=================================================================\n",
      "Total params: 6789 (26.52 KB)\n",
      "Trainable params: 6789 (26.52 KB)\n",
      "Non-trainable params: 0 (0.00 Byte)\n",
      "_________________________________________________________________\n"
     ]
    }
   ],
   "source": [
    "# different way to construct model\n",
    "from keras.layers import Activation\n",
    "model_1 = Sequential()\n",
    "model_1.add(Dense(units = 64, input_dim = 100))\n",
    "model_1.add(Activation(\"relu\"))\n",
    "model_1.add(Dense(units = 5, activation = \"softmax\"))\n",
    "model_1.summary()"
   ]
  },
  {
   "cell_type": "code",
   "execution_count": 13,
   "metadata": {},
   "outputs": [
    {
     "name": "stdout",
     "output_type": "stream",
     "text": [
      "Model: \"sequential_6\"\n",
      "_________________________________________________________________\n",
      " Layer (type)                Output Shape              Param #   \n",
      "=================================================================\n",
      " dense_8 (Dense)             (None, 10)                1010      \n",
      "                                                                 \n",
      " dense_9 (Dense)             (None, 5)                 55        \n",
      "                                                                 \n",
      "=================================================================\n",
      "Total params: 1065 (4.16 KB)\n",
      "Trainable params: 1065 (4.16 KB)\n",
      "Non-trainable params: 0 (0.00 Byte)\n",
      "_________________________________________________________________\n"
     ]
    }
   ],
   "source": [
    "# different way to construct model\n",
    "config = [Dense(units = 10, activation = \"relu\", input_dim = 100),\n",
    "          Dense(units = 5, activation = \"softmax\")]\n",
    "model_2 = Sequential(config)\n",
    "model_2.summary()"
   ]
  },
  {
   "cell_type": "code",
   "execution_count": 18,
   "metadata": {},
   "outputs": [],
   "source": [
    "def mymodel(n_layers, n_neuron_per_layer, input_dim, output_dim):\n",
    "    model = Sequential([Dense(units = n_neuron_per_layer, activation = \"relu\", input_dim = input_dim)])\n",
    "    for l in range(n_layers):\n",
    "        model.add(Dense(units = n_neuron_per_layer, activation = \"relu\"))\n",
    "    model.add(Dense(units = output_dim, activation = \"softmax\"))\n",
    "    return model"
   ]
  },
  {
   "cell_type": "code",
   "execution_count": 19,
   "metadata": {},
   "outputs": [],
   "source": [
    "model_3 = mymodel(5, 4, 100, 5)"
   ]
  },
  {
   "cell_type": "code",
   "execution_count": 20,
   "metadata": {},
   "outputs": [
    {
     "name": "stdout",
     "output_type": "stream",
     "text": [
      "Model: \"sequential_9\"\n",
      "_________________________________________________________________\n",
      " Layer (type)                Output Shape              Param #   \n",
      "=================================================================\n",
      " dense_14 (Dense)            (None, 4)                 404       \n",
      "                                                                 \n",
      " dense_15 (Dense)            (None, 4)                 20        \n",
      "                                                                 \n",
      " dense_16 (Dense)            (None, 4)                 20        \n",
      "                                                                 \n",
      " dense_17 (Dense)            (None, 4)                 20        \n",
      "                                                                 \n",
      " dense_18 (Dense)            (None, 4)                 20        \n",
      "                                                                 \n",
      " dense_19 (Dense)            (None, 4)                 20        \n",
      "                                                                 \n",
      " dense_20 (Dense)            (None, 5)                 25        \n",
      "                                                                 \n",
      "=================================================================\n",
      "Total params: 529 (2.07 KB)\n",
      "Trainable params: 529 (2.07 KB)\n",
      "Non-trainable params: 0 (0.00 Byte)\n",
      "_________________________________________________________________\n"
     ]
    }
   ],
   "source": [
    "model_3.summary()"
   ]
  },
  {
   "cell_type": "markdown",
   "metadata": {},
   "source": [
    "first layer = 404 param\n",
    "<br>five hidden layers = 20 param\n",
    "<br>output layer = 25 param"
   ]
  },
  {
   "cell_type": "markdown",
   "metadata": {},
   "source": [
    "## Optimiser"
   ]
  },
  {
   "cell_type": "code",
   "execution_count": 21,
   "metadata": {},
   "outputs": [],
   "source": [
    "# loss = loss function used during training\n",
    "# optimizer = \"sgd\" = stochastic gradient descent\n",
    "# metrics = evaluation metrics show in the log\n",
    "model.compile(loss = \"categorical_crossentropy\", optimizer = \"sgd\", metrics = [\"accuracy\"])"
   ]
  }
 ],
 "metadata": {
  "kernelspec": {
   "display_name": "BERT",
   "language": "python",
   "name": "bert"
  },
  "language_info": {
   "codemirror_mode": {
    "name": "ipython",
    "version": 3
   },
   "file_extension": ".py",
   "mimetype": "text/x-python",
   "name": "python",
   "nbconvert_exporter": "python",
   "pygments_lexer": "ipython3",
   "version": "3.11.5"
  }
 },
 "nbformat": 4,
 "nbformat_minor": 2
}
